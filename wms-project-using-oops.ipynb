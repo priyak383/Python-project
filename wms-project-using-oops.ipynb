{
 "cells": [
  {
   "cell_type": "code",
   "execution_count": null,
   "metadata": {
    "execution": {
     "iopub.execute_input": "2025-08-18T03:49:44.124880Z",
     "iopub.status.busy": "2025-08-18T03:49:44.124199Z",
     "iopub.status.idle": "2025-08-18T03:55:47.494888Z",
     "shell.execute_reply": "2025-08-18T03:55:47.493653Z",
     "shell.execute_reply.started": "2025-08-18T03:49:44.124854Z"
    },
    "trusted": true
   },
   "outputs": [
    {
     "name": "stdout",
     "output_type": "stream",
     "text": [
      "\n",
      "Welcome to Golden Industries!\n",
      "1. Electrical\n",
      "2. Hardware\n",
      "3. Plumbing\n",
      "4. Centring\n",
      "5. Generate Bill\n",
      "6. Show Remaining Stock\n",
      "7. Exit\n"
     ]
    },
    {
     "name": "stdout",
     "output_type": "stream",
     "text": [
      "Enter your choice:  1\n"
     ]
    },
    {
     "name": "stdout",
     "output_type": "stream",
     "text": [
      "\n",
      "Electrical Items:\n",
      "wire: Rs12, Stock: 100\n",
      "switches: Rs20, Stock: 50\n",
      "MCB: Rs120, Stock: 25\n",
      "fuse: Rs210, Stock: 30\n"
     ]
    },
    {
     "name": "stdout",
     "output_type": "stream",
     "text": [
      "Select items (space-separated):  wire\n",
      "Enter qty for 'wire':  90\n"
     ]
    },
    {
     "name": "stdout",
     "output_type": "stream",
     "text": [
      " Added to cart: wire x 90 = Rs1080\n",
      "\n",
      "Welcome to Golden Industries!\n",
      "1. Electrical\n",
      "2. Hardware\n",
      "3. Plumbing\n",
      "4. Centring\n",
      "5. Generate Bill\n",
      "6. Show Remaining Stock\n",
      "7. Exit\n"
     ]
    },
    {
     "name": "stdout",
     "output_type": "stream",
     "text": [
      "Enter your choice:  2\n"
     ]
    },
    {
     "name": "stdout",
     "output_type": "stream",
     "text": [
      "\n",
      "Hardware Items:\n",
      "nut_bolts: Rs120, Stock: 150\n",
      "fastners: Rs250, Stock: 100\n",
      "drills: Rs300, Stock: 60\n"
     ]
    },
    {
     "name": "stdout",
     "output_type": "stream",
     "text": [
      "Select items (space-separated):  fastners drills\n",
      "Enter qty for 'fastners':  12\n"
     ]
    },
    {
     "name": "stdout",
     "output_type": "stream",
     "text": [
      " Added to cart: fastners x 12 = Rs3000\n"
     ]
    },
    {
     "name": "stdout",
     "output_type": "stream",
     "text": [
      "Enter qty for 'drills':  10\n"
     ]
    },
    {
     "name": "stdout",
     "output_type": "stream",
     "text": [
      " Added to cart: drills x 10 = Rs3000\n",
      "\n",
      "Welcome to Golden Industries!\n",
      "1. Electrical\n",
      "2. Hardware\n",
      "3. Plumbing\n",
      "4. Centring\n",
      "5. Generate Bill\n",
      "6. Show Remaining Stock\n",
      "7. Exit\n"
     ]
    },
    {
     "name": "stdout",
     "output_type": "stream",
     "text": [
      "Enter your choice:  4\n"
     ]
    },
    {
     "name": "stdout",
     "output_type": "stream",
     "text": [
      "\n",
      "Centring Items:\n",
      "hammer: Rs210, Stock: 50\n",
      "cement: Rs480, Stock: 120\n",
      "steel: Rs75, Stock: 200\n",
      "binding: Rs80, Stock: 180\n"
     ]
    },
    {
     "name": "stdout",
     "output_type": "stream",
     "text": [
      "Select items (space-separated):  steel hammer cement\n",
      "Enter qty for 'steel':  80\n"
     ]
    },
    {
     "name": "stdout",
     "output_type": "stream",
     "text": [
      " Added to cart: steel x 80 = Rs6000\n"
     ]
    },
    {
     "name": "stdout",
     "output_type": "stream",
     "text": [
      "Enter qty for 'hammer':  90\n"
     ]
    },
    {
     "name": "stdout",
     "output_type": "stream",
     "text": [
      " Error: Only 50 available!\n",
      "\n",
      "Welcome to Golden Industries!\n",
      "1. Electrical\n",
      "2. Hardware\n",
      "3. Plumbing\n",
      "4. Centring\n",
      "5. Generate Bill\n",
      "6. Show Remaining Stock\n",
      "7. Exit\n"
     ]
    },
    {
     "name": "stdout",
     "output_type": "stream",
     "text": [
      "Enter your choice:  5\n"
     ]
    },
    {
     "name": "stdout",
     "output_type": "stream",
     "text": [
      "\n",
      " Final Bill\n",
      "wire x 90 = Rs1080\n",
      "fastners x 12 = Rs3000\n",
      "drills x 10 = Rs3000\n",
      "steel x 80 = Rs6000\n",
      "TOTAL: Rs13080\n",
      "\n",
      "Welcome to Golden Industries!\n",
      "1. Electrical\n",
      "2. Hardware\n",
      "3. Plumbing\n",
      "4. Centring\n",
      "5. Generate Bill\n",
      "6. Show Remaining Stock\n",
      "7. Exit\n"
     ]
    },
    {
     "name": "stdout",
     "output_type": "stream",
     "text": [
      "Enter your choice:  6\n"
     ]
    },
    {
     "name": "stdout",
     "output_type": "stream",
     "text": [
      "\n",
      " Remaining Stock:\n",
      "\n",
      "Electrical Items:\n",
      "wire: Rs12, Stock: 10\n",
      "switches: Rs20, Stock: 50\n",
      "MCB: Rs120, Stock: 25\n",
      "fuse: Rs210, Stock: 30\n",
      "\n",
      "Hardware Items:\n",
      "nut_bolts: Rs120, Stock: 150\n",
      "fastners: Rs250, Stock: 88\n",
      "drills: Rs300, Stock: 50\n",
      "\n",
      "Plumbing Items:\n",
      "pipes: Rs500, Stock: 80\n",
      "connection: Rs120, Stock: 200\n",
      "clips: Rs5, Stock: 500\n",
      "solvent: Rs90, Stock: 75\n",
      "\n",
      "Centring Items:\n",
      "hammer: Rs210, Stock: 50\n",
      "cement: Rs480, Stock: 120\n",
      "steel: Rs75, Stock: 120\n",
      "binding: Rs80, Stock: 180\n",
      "\n",
      "Welcome to Golden Industries!\n",
      "1. Electrical\n",
      "2. Hardware\n",
      "3. Plumbing\n",
      "4. Centring\n",
      "5. Generate Bill\n",
      "6. Show Remaining Stock\n",
      "7. Exit\n"
     ]
    },
    {
     "name": "stdout",
     "output_type": "stream",
     "text": [
      "Enter your choice:  8\n"
     ]
    },
    {
     "name": "stdout",
     "output_type": "stream",
     "text": [
      " Wrong choice. Try again.\n",
      "\n",
      "Welcome to Golden Industries!\n",
      "1. Electrical\n",
      "2. Hardware\n",
      "3. Plumbing\n",
      "4. Centring\n",
      "5. Generate Bill\n",
      "6. Show Remaining Stock\n",
      "7. Exit\n"
     ]
    },
    {
     "name": "stdout",
     "output_type": "stream",
     "text": [
      "Enter your choice:  7\n"
     ]
    },
    {
     "name": "stdout",
     "output_type": "stream",
     "text": [
      "\n",
      "1. Add New Item\n",
      "2. Restock Item\n",
      "3. Delete Item\n",
      "4. Exit System\n"
     ]
    },
    {
     "name": "stdout",
     "output_type": "stream",
     "text": [
      "Enter choice:  1\n"
     ]
    },
    {
     "name": "stdout",
     "output_type": "stream",
     "text": [
      "\n",
      "Select Category: 1.Electrical 2.Hardware 3.Plumbing 4.Centring\n"
     ]
    },
    {
     "name": "stdout",
     "output_type": "stream",
     "text": [
      "Enter category:  2\n",
      "Enter new item name:  Nails\n",
      "Enter price:  80\n",
      "Enter stock:  100\n"
     ]
    },
    {
     "name": "stdout",
     "output_type": "stream",
     "text": [
      " 'Nails' added to Hardware category.\n",
      "\n",
      "1. Add New Item\n",
      "2. Restock Item\n",
      "3. Delete Item\n",
      "4. Exit System\n"
     ]
    },
    {
     "name": "stdout",
     "output_type": "stream",
     "text": [
      "Enter choice:  4\n"
     ]
    },
    {
     "name": "stdout",
     "output_type": "stream",
     "text": [
      "Exiting System. Thank you! Visit again!!\n"
     ]
    }
   ],
   "source": [
    "#Warehouse management system using oops and exception handling concepts by Priya Kakade\n",
    "from abc import ABC, abstractmethod   #abstraction\n",
    "\n",
    "# Abstract Class for inventory\n",
    "class InventoryBase(ABC):\n",
    "    @abstractmethod\n",
    "    #defining operations(ceate,read,update,delete)\n",
    "    def add_item(self, name, price, stock):  # Create\n",
    "        pass\n",
    "\n",
    "    @abstractmethod\n",
    "    def display_items(self):  # Read\n",
    "        pass\n",
    "\n",
    "    @abstractmethod\n",
    "    def update_stock(self, name, qty):  # Update\n",
    "        pass\n",
    "\n",
    "    @abstractmethod\n",
    "    def delete_item(self, name):  # Delete\n",
    "        pass\n",
    "\n",
    "\n",
    "# Category Class\n",
    "class Category(InventoryBase):  # Inheritance for (Base class)\n",
    "    def __init__(self, name, items):\n",
    "        self.__name = name   #(private attribute)\n",
    "        self.__items = items #for dictionary\n",
    "\n",
    "    # Create class\n",
    "    def add_item(self, name, price, stock):\n",
    "        if name in self.__items:\n",
    "            raise Exception(f\"Item '{name}' already exists! Use update instead.\")\n",
    "        self.__items[name] = [price, stock]\n",
    "        print(f\" '{name}' added to {self.__name} category.\")\n",
    "\n",
    "    # Read\n",
    "    def display_items(self):\n",
    "        print(f\"\\n{self.__name} Items:\")\n",
    "        if not self.__items:\n",
    "            print(\"No items available.\")\n",
    "        for item, (price, stock) in self.__items.items():\n",
    "            print(f\"{item}: Rs{price}, Stock: {stock}\")\n",
    "\n",
    "    # Update\n",
    "    def update_stock(self, name, qty):\n",
    "        if name not in self.__items:\n",
    "            raise Exception(f\"Item '{name}' not found in {self.__name}.\")\n",
    "        self.__items[name][1] += qty #1 is index for stock\n",
    "        print(f\"Stock updated: {name} → {self.__items[name][1]}\")\n",
    "\n",
    "    # Delete\n",
    "    def delete_item(self, name):\n",
    "        if name not in self.__items:\n",
    "            raise Exception(f\"Item '{name}' not found in {self.__name}.\")\n",
    "        del self.__items[name]\n",
    "        print(f\"'{name}' deleted from {self.__name}.\")\n",
    "\n",
    "\n",
    "    def get_items(self):\n",
    "        return self.__items  #get items used in dict\n",
    "\n",
    "\n",
    "#  Cart Class\n",
    "class Cart:\n",
    "    def __init__(self):\n",
    "        self.items = []\n",
    "\n",
    "    def add_to_cart(self, item, price, qty, category):\n",
    "        if qty <= category.get_items()[item][1]:#it will ensure that is enough stock  is exits or not\n",
    "            self.items.append((item, price, qty))\n",
    "            category.get_items()[item][1] -= qty  # reduce stock\n",
    "            print(f\" Added to cart: {item} x {qty} = Rs{price * qty}\")\n",
    "        else:\n",
    "            raise Exception(f\"Only {category.get_items()[item][1]} available!\")\n",
    "\n",
    "    def generate_bill(self):\n",
    "        print(\"\\n Final Bill\")\n",
    "        total = 0\n",
    "        for item, price, qty in self.items:\n",
    "            print(f\"{item} x {qty} = Rs{price * qty}\")\n",
    "            total += price * qty\n",
    "        print(f\"TOTAL: Rs{total}\")\n",
    "        return total\n",
    "\n",
    "\n",
    "#  Main Warehouse Class \n",
    "class Warehouse:\n",
    "    def __init__(self):\n",
    "        # Initial inventory \n",
    "        self.categories = {\n",
    "            1: Category(\"Electrical\", {\"wire\": [12, 100], \"switches\": [20, 50], \"MCB\": [120, 25], \"fuse\": [210, 30]}),\n",
    "            2: Category(\"Hardware\", {\"nut_bolts\": [120, 150], \"fastners\": [250, 100], \"drills\": [300, 60]}),\n",
    "            3: Category(\"Plumbing\", {\"pipes\": [500, 80], \"connection\": [120, 200], \"clips\": [5, 500], \"solvent\": [90, 75]}),\n",
    "            4: Category(\"Centring\", {\"hammer\": [210, 50], \"cement\": [480, 120], \"steel\": [75, 200], \"binding\": [80, 180]}),\n",
    "        }\n",
    "        self.cart = Cart()#object for Cart class\n",
    "\n",
    "    def display_menu(self):\n",
    "        print(\"\\nWelcome to Golden Industries!\")\n",
    "        print(\"1. Electrical\\n2. Hardware\\n3. Plumbing\\n4. Centring\\n5. Generate Bill\\n6. Show Remaining Stock\\n7. Exit\")\n",
    "\n",
    "    # to display remaining stock\n",
    "    def show_remaining_stock(self):\n",
    "        print(\"\\n Remaining Stock:\")\n",
    "        for cat in self.categories.values():\n",
    "            cat.display_items()\n",
    "\n",
    "    def run(self):\n",
    "        while True:\n",
    "            try:\n",
    "                self.display_menu()\n",
    "                choice = int(input(\"Enter your choice: \"))\n",
    "\n",
    "                if choice in self.categories:\n",
    "                    category = self.categories[choice] #fetches category object\n",
    "                    category.display_items() #display available items in cate\n",
    "                    items = input(\"Select items (space-separated): \").split()\n",
    "\n",
    "                    for item in items:\n",
    "                        if item in category.get_items(): #existance of items\n",
    "                            qty = int(input(f\"Enter qty for '{item}': \"))\n",
    "                            price = category.get_items()[item][0] #0 for item\n",
    "                            self.cart.add_to_cart(item, price, qty, category) #reduce the stock\n",
    "                        else:\n",
    "                            print(f\" Item '{item}' not found!\")\n",
    "\n",
    "                elif choice == 5:  # Generate Bill\n",
    "                    self.cart.generate_bill()\n",
    "\n",
    "                elif choice == 6:  # Show Remaining Stock\n",
    "                    self.show_remaining_stock()\n",
    "\n",
    "                elif choice == 7:  # Exit \n",
    "                    while True:\n",
    "                        print(\"\\n1. Add New Item\\n2. Restock Item\\n3. Delete Item\\n4. Exit System\")\n",
    "                        post_choice = int(input(\"Enter choice: \"))\n",
    "\n",
    "                        if post_choice in [1, 2, 3]:\n",
    "                            print(\"\\nSelect Category: 1.Electrical 2.Hardware 3.Plumbing 4.Centring\")\n",
    "                            catg_choice = int(input(\"Enter category: \"))\n",
    "                            if catg_choice not in self.categories:\n",
    "                                print(\"Invalid category.\")\n",
    "                                continue\n",
    "                            category = self.categories[catg_choice]\n",
    "\n",
    "                            if post_choice == 1:\n",
    "                                name = input(\"Enter new item name: \")\n",
    "                                price = int(input(\"Enter price: \"))\n",
    "                                stock = int(input(\"Enter stock: \"))\n",
    "                                try: # calls add item inside try/catch to catch duplicates \n",
    "                                    category.add_item(name, price, stock)\n",
    "                                except Exception as e:\n",
    "                                    print(\"Error:\", e)\n",
    "\n",
    "                            elif post_choice == 2:\n",
    "                                category.display_items()\n",
    "                                name = input(\"Enter item name to restock: \")\n",
    "                                qty = int(input(\"Enter qty to add: \"))\n",
    "                                try:\n",
    "                                    category.update_stock(name, qty)\n",
    "                                except Exception as e:\n",
    "                                    print(\"Error:\", e)\n",
    "\n",
    "                            elif post_choice == 3:\n",
    "                                category.display_items()\n",
    "                                name = input(\"Enter item name to delete: \")\n",
    "                                try:\n",
    "                                    category.delete_item(name)\n",
    "                                except Exception as e:\n",
    "                                    print(\"Error:\", e)\n",
    "\n",
    "                        elif post_choice == 4:\n",
    "                            print(\"Exiting System. Thank you! Visit again!!\")\n",
    "                            return\n",
    "                        else:\n",
    "                            print(\" Invalid option.\")\n",
    "\n",
    "                else:\n",
    "                    print(\" Wrong choice. Try again.\")\n",
    "\n",
    "            except ValueError: #exeption for text or anything alse other than numbers \n",
    "                print(\"Invalid input! Enter numbers only.\")\n",
    "            except Exception as e: #for runtime errors\n",
    "                print(\" Error:\", e)\n",
    "\n",
    "\n",
    "# Run Program\n",
    "if __name__ == \"__main__\":\n",
    "    system = Warehouse() #obj for warehouse\n",
    "    system.run()\n"
   ]
  }
 ],
 "metadata": {
  "kaggle": {
   "accelerator": "none",
   "dataSources": [],
   "dockerImageVersionId": 31089,
   "isGpuEnabled": false,
   "isInternetEnabled": false,
   "language": "python",
   "sourceType": "notebook"
  },
  "kernelspec": {
   "display_name": "Python 3",
   "language": "python",
   "name": "python3"
  },
  "language_info": {
   "codemirror_mode": {
    "name": "ipython",
    "version": 3
   },
   "file_extension": ".py",
   "mimetype": "text/x-python",
   "name": "python",
   "nbconvert_exporter": "python",
   "pygments_lexer": "ipython3",
   "version": "3.11.13"
  }
 },
 "nbformat": 4,
 "nbformat_minor": 4
}
