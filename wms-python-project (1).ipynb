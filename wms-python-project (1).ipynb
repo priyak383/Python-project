{
 "cells": [
  {
   "cell_type": "code",
   "execution_count": null,
   "metadata": {
    "execution": {
     "execution_failed": "2025-07-21T04:03:15.394Z",
     "iopub.execute_input": "2025-07-20T17:02:42.931377Z",
     "iopub.status.busy": "2025-07-20T17:02:42.931026Z"
    },
    "trusted": true
   },
   "outputs": [
    {
     "name": "stdout",
     "output_type": "stream",
     "text": [
      "\n",
      "Welcome to Golden Industries!\n",
      "1. Electrical\n",
      "2. Hardware\n",
      "3. Plumbing\n",
      "4. Centring\n",
      "5. Exit & Generate bill\n"
     ]
    },
    {
     "name": "stdout",
     "output_type": "stream",
     "text": [
      "\n",
      "Plz Enter your choice:  1\n"
     ]
    },
    {
     "name": "stdout",
     "output_type": "stream",
     "text": [
      "\n",
      "Electrical items:\n",
      "wire: 12, Stock: 100\n",
      "switches: 20, Stock: 50\n",
      "MCB: 120, Stock: 25\n",
      "fuse: 210, Stock: 30\n"
     ]
    },
    {
     "name": "stdout",
     "output_type": "stream",
     "text": [
      "Select items from this category (space-separated):  wire fuse\n",
      "Enter quantity for 'wire' (available: 100):  50\n"
     ]
    },
    {
     "name": "stdout",
     "output_type": "stream",
     "text": [
      "You selected: wire x 50 = 600\n"
     ]
    },
    {
     "name": "stdout",
     "output_type": "stream",
     "text": [
      "Enter quantity for 'fuse' (available: 30):  15\n"
     ]
    },
    {
     "name": "stdout",
     "output_type": "stream",
     "text": [
      "You selected: fuse x 15 = 3150\n",
      "\n",
      "Welcome to Golden Industries!\n",
      "1. Electrical\n",
      "2. Hardware\n",
      "3. Plumbing\n",
      "4. Centring\n",
      "5. Exit & Generate bill\n"
     ]
    },
    {
     "name": "stdout",
     "output_type": "stream",
     "text": [
      "\n",
      "Plz Enter your choice:  4\n"
     ]
    },
    {
     "name": "stdout",
     "output_type": "stream",
     "text": [
      "\n",
      "Centring items:\n",
      "hammer: 210, Stock: 50\n",
      "cement: 480, Stock: 120\n",
      "steel: 75, Stock: 200\n",
      "binding: 80, Stock: 180\n"
     ]
    },
    {
     "name": "stdout",
     "output_type": "stream",
     "text": [
      "Select items from this category (space-separated):  cement steel binding\n",
      "Enter quantity for 'cement' (available: 120):  50\n"
     ]
    },
    {
     "name": "stdout",
     "output_type": "stream",
     "text": [
      "You selected: cement x 50 = 24000\n"
     ]
    },
    {
     "name": "stdout",
     "output_type": "stream",
     "text": [
      "Enter quantity for 'steel' (available: 200):  150\n"
     ]
    },
    {
     "name": "stdout",
     "output_type": "stream",
     "text": [
      "You selected: steel x 150 = 11250\n"
     ]
    },
    {
     "name": "stdout",
     "output_type": "stream",
     "text": [
      "Enter quantity for 'binding' (available: 180):  20\n"
     ]
    },
    {
     "name": "stdout",
     "output_type": "stream",
     "text": [
      "You selected: binding x 20 = 1600\n",
      "\n",
      "Welcome to Golden Industries!\n",
      "1. Electrical\n",
      "2. Hardware\n",
      "3. Plumbing\n",
      "4. Centring\n",
      "5. Exit & Generate bill\n"
     ]
    },
    {
     "name": "stdout",
     "output_type": "stream",
     "text": [
      "\n",
      "Plz Enter your choice:  5\n"
     ]
    },
    {
     "name": "stdout",
     "output_type": "stream",
     "text": [
      "\n",
      "* Final Bill *\n",
      "wire x 50 = 600\n",
      "fuse x 15 = 3150\n",
      "cement x 50 = 24000\n",
      "steel x 150 = 11250\n",
      "binding x 20 = 1600\n",
      "Total Amount: ₹40600\n",
      "Thank you for shopping with Golden Industries!\n",
      "\n",
      "* Remaining Stock *\n",
      "\n",
      "Electrical:\n",
      "wire: 12, Stock: 50\n",
      "switches: 20, Stock: 50\n",
      "MCB: 120, Stock: 25\n",
      "fuse: 210, Stock: 15\n",
      "\n",
      "Hardware:\n",
      "nut_bolts: 120, Stock: 150\n",
      "fastners: 250, Stock: 100\n",
      "drills: 300, Stock: 60\n",
      "\n",
      "Plumbing:\n",
      "pipes: 500, Stock: 80\n",
      "connection: 120, Stock: 200\n",
      "clips: 5, Stock: 500\n",
      "solvent: 90, Stock: 75\n",
      "\n",
      "Centring:\n",
      "hammer: 210, Stock: 50\n",
      "cement: 480, Stock: 70\n",
      "steel: 75, Stock: 50\n",
      "binding: 80, Stock: 160\n",
      "\n",
      "Would you like to:\n",
      "1. Add New Item to Inventory\n",
      "2. Restock Existing Item\n",
      "3. Exit\n"
     ]
    }
   ],
   "source": [
    "# Warehouse Management System\n",
    "\n",
    "# Initial inventory with price and stock [price, stock]\n",
    "electrical = {\"wire\": [12, 100], \"switches\": [20, 50], \"MCB\": [120, 25], \"fuse\": [210, 30]}\n",
    "hardware = {\"nut_bolts\": [120, 150], \"fastners\": [250, 100], \"drills\": [300, 60]}\n",
    "plumbing = {\"pipes\": [500, 80], \"connection\": [120, 200], \"clips\": [5, 500], \"solvent\": [90, 75]}\n",
    "centring = {\"hammer\": [210, 50], \"cement\": [480, 120], \"steel\": [75, 200], \"binding\": [80, 180]}\n",
    "\n",
    "# to store selected items\n",
    "cart = []\n",
    "\n",
    "# Display main menu\n",
    "def WMS():\n",
    "    print(\"\\nWelcome to Golden Industries!\")\n",
    "    print(\"1. Electrical\")\n",
    "    print(\"2. Hardware\")\n",
    "    print(\"3. Plumbing\")\n",
    "    print(\"4. Centring\")\n",
    "    print(\"5. Exit & Generate bill\")\n",
    "\n",
    "# Display items with price and stock\n",
    "def display_items(category):\n",
    "    for item, (price, stock) in category.items():\n",
    "        print(f\"{item}: {price}, Stock: {stock}\")\n",
    "\n",
    "# item selection and purchasing\n",
    "def selection(category):\n",
    "    display_items(category)\n",
    "    items = input(\"Select items from this category (space-separated): \").split(\" \")\n",
    "    for item in items:\n",
    "        item = item.strip()#????\n",
    "        if item in category:\n",
    "            price, stock = category[item]\n",
    "            qty = int(input(f\"Enter quantity for '{item}' (available: {stock}): \"))\n",
    "            if qty <= stock:\n",
    "                print(f\"You selected: {item} x {qty} = {price * qty}\")\n",
    "                cart.append((item, price, qty)) #add to cart\n",
    "                category[item][1] -= qty  # reduce stock\n",
    "            else:\n",
    "                print(f\"Only {stock} items available.Can't proceed.\") #??????\n",
    "        else:\n",
    "            print(f\"Item '{item}' not found!\")\n",
    "\n",
    "# Main program\n",
    "while True:\n",
    "    WMS()\n",
    "    choice = int(input(\"\\nPlz Enter your choice: \"))\n",
    "\n",
    "    if choice == 1:\n",
    "        print(\"\\nElectrical items:\")\n",
    "        selection(electrical)\n",
    "\n",
    "    elif choice == 2:\n",
    "        print(\"\\nHardware items:\")\n",
    "        selection(hardware)\n",
    "\n",
    "    elif choice == 3:\n",
    "        print(\"\\nPlumbing items:\")\n",
    "        selection(plumbing)\n",
    "\n",
    "    elif choice == 4:\n",
    "        print(\"\\nCentring items:\")\n",
    "        selection(centring)\n",
    "\n",
    "    elif choice == 5:\n",
    "        print(\"\\n* Final Bill *\")\n",
    "        total = 0\n",
    "        for item, price, qty in cart:\n",
    "            print(f\"{item} x {qty} = {price * qty}\")\n",
    "            total += price * qty\n",
    "        print(f\"Total Amount: ₹{total}\")\n",
    "        print(\"Thank you for shopping with Golden Industries!\")\n",
    "\n",
    "        print(\"\\n* Remaining Stock *\")\n",
    "        print(\"\\nElectrical:\")\n",
    "        display_items(electrical)\n",
    "        print(\"\\nHardware:\")\n",
    "        display_items(hardware)\n",
    "        print(\"\\nPlumbing:\")\n",
    "        display_items(plumbing)\n",
    "        print(\"\\nCentring:\")\n",
    "        display_items(centring)\n",
    "\n",
    "        # Post-billing inventory \n",
    "        while True:\n",
    "            print(\"\\nWould you like to:\")\n",
    "            print(\"1. Add New Item to Inventory\")\n",
    "            print(\"2. Restock Existing Item\")\n",
    "            print(\"3. Exit\")\n",
    "            post_choice = int(input(\"Enter your choice: \"))\n",
    "\n",
    "            if post_choice == 1:\n",
    "                print(\"\\n--- Add New Item to Inventory ---\")\n",
    "                print(\"Select Category:\")\n",
    "                print(\"1. Electrical\\n2. Hardware\\n3. Plumbing\\n4. Centring\")\n",
    "                catg_choice = int(input(\"Enter category number: \"))\n",
    "\n",
    "                categories = {\n",
    "                    1: electrical,\n",
    "                    2: hardware,\n",
    "                    3: plumbing,\n",
    "                    4: centring\n",
    "                }\n",
    "\n",
    "                if catg_choice in categories:\n",
    "                    category = categories[catg_choice]\n",
    "                    item_name = input(\"Enter new item name: \").strip()#????????????\n",
    "                    if item_name in category:\n",
    "                        print(\"Item already exists! Use restock instead.\")\n",
    "                    else:\n",
    "                        price = int(input(\"Enter item price: \"))\n",
    "                        stock = int(input(\"Enter initial stock: \"))\n",
    "                        category[item_name] = [price, stock]\n",
    "                        print(f\"'{item_name}' added to inventory.\")\n",
    "                else:\n",
    "                    print(\"Invalid category selection!\")\n",
    "\n",
    "            elif post_choice == 2:\n",
    "                print(\"\\n--- Restock Existing Item ---\")\n",
    "                print(\"Select Category:\")\n",
    "                print(\"1. Electrical\\n2. Hardware\\n3. Plumbing\\n4. Centring\")\n",
    "                catg_choice = int(input(\"Enter category number: \"))\n",
    "\n",
    "                categories = {\n",
    "                    1: electrical,\n",
    "                    2: hardware,\n",
    "                    3: plumbing,\n",
    "                    4: centring\n",
    "                }\n",
    "\n",
    "                if catg_choice in categories:\n",
    "                    category = categories[catg_choice]\n",
    "                    display_items(category)\n",
    "                    item_name = input(\"Enter item name to restock: \").strip()\n",
    "                    if item_name in category:\n",
    "                        add_qty = int(input(\"Enter quantity to add: \"))\n",
    "                        category[item_name][1] += add_qty\n",
    "                        print(f\"Stock updated. New stock of '{item_name}': {category[item_name][1]}\")\n",
    "                    else:\n",
    "                        print(\"Item not found in this category!!\")\n",
    "                else:\n",
    "                    print(\"Invalid category selection!!\")\n",
    "\n",
    "            elif post_choice == 3:\n",
    "                print(\"Exiting System.ThakYou!\")\n",
    "                break\n",
    "            else:\n",
    "                print(\"Invalid option! Try again.\")\n",
    "\n",
    "        break  # Exit after inventory handling\n",
    "\n",
    "    else:\n",
    "        print(\"Wrong choice! Please enter a valid option.\")"
   ]
  }
 ],
 "metadata": {
  "kaggle": {
   "accelerator": "none",
   "dataSources": [],
   "dockerImageVersionId": 31089,
   "isGpuEnabled": false,
   "isInternetEnabled": false,
   "language": "python",
   "sourceType": "notebook"
  },
  "kernelspec": {
   "display_name": "Python 3",
   "language": "python",
   "name": "python3"
  },
  "language_info": {
   "codemirror_mode": {
    "name": "ipython",
    "version": 3
   },
   "file_extension": ".py",
   "mimetype": "text/x-python",
   "name": "python",
   "nbconvert_exporter": "python",
   "pygments_lexer": "ipython3",
   "version": "3.11.13"
  }
 },
 "nbformat": 4,
 "nbformat_minor": 4
}
